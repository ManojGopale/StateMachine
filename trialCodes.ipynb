{
 "cells": [
  {
   "cell_type": "code",
   "execution_count": 9,
   "metadata": {},
   "outputs": [
    {
     "name": "stdout",
     "output_type": "stream",
     "text": [
      "i= 0\n",
      "i= 1\n",
      "i= 4\n",
      "i= 3\n",
      "i= 5\n",
      "i= 6\n",
      "list1 = [5, 7, 9], <type 'list'>, len= 3, last= 9\n",
      "list1 = [9, 12, 15], <type 'list'>, len= 3, last= 15\n",
      "list3 = [1.8, 2.4, 3.0]\n",
      "random= 0.865129\n",
      "Max of random: 0.686436, Min of Random: 0.005167\n"
     ]
    }
   ],
   "source": [
    "myList = [0,1,4,3,5,6]\n",
    "\n",
    "for i in  myList:\n",
    "    print \"i= %d\" %(i)\n",
    "    \n",
    "#### adding 2 list using map\n",
    "from operator import add\n",
    "\n",
    "list1 = [1,2,3]\n",
    "list2 = [4,5,6]\n",
    "\n",
    "for i in range(2):\n",
    "    list1 = map(add, list1, list2)\n",
    "    print\"list1 = %s, %s, len= %d, last= %d\" %(list1, type(list1), len(list1), list1[len(list1)-1])\n",
    "\n",
    "list3 = [x/5.0 for x in list1]\n",
    "print\"list3 = %s\" %(list3)\n",
    "\n",
    "## Checking the random numbers\n",
    "from random import *\n",
    "seed(None)\n",
    "\n",
    "print \"random= %f\" %(random())\n",
    "rand = []\n",
    "for i in range(10):\n",
    "    rand.append(random())\n",
    "\n",
    "print\"Max of random: %f, Min of Random: %f\" %(max(rand), min(rand))"
   ]
  },
  {
   "cell_type": "code",
   "execution_count": 20,
   "metadata": {},
   "outputs": [
    {
     "name": "stdout",
     "output_type": "stream",
     "text": [
      "[4, 13, 1]\n",
      "18\n"
     ]
    }
   ],
   "source": [
    "s = {'s0': 1, 's1': 13, 's2': 4}\n",
    "t = {'t0': 2, 't2': 2, 't3': 2}\n",
    "sList = [val for key, val in s.iteritems()]\n",
    "print(sList)\n",
    "slist = [1,3,4]\n",
    "sNum = reduce(lambda x,y: x+y, sList) \n",
    "print(sNum)"
   ]
  },
  {
   "cell_type": "code",
   "execution_count": 35,
   "metadata": {},
   "outputs": [
    {
     "name": "stdout",
     "output_type": "stream",
     "text": [
      "    0.1111\n"
     ]
    },
    {
     "data": {
      "text/plain": [
       "str"
      ]
     },
     "execution_count": 35,
     "metadata": {},
     "output_type": "execute_result"
    }
   ],
   "source": [
    "fltStr = \"{0:10.4f}\".format((float(1*1.0/9)))\n",
    "print(fltStr)\n",
    "type(fltStr)"
   ]
  },
  {
   "cell_type": "code",
   "execution_count": 64,
   "metadata": {},
   "outputs": [
    {
     "name": "stdout",
     "output_type": "stream",
     "text": [
      "[26, 3]\n"
     ]
    }
   ],
   "source": [
    "s = {'s0': 1, 's1': 13}\n",
    "t1 = {'t0': 2, 't2': 2, 't3': 2}\n",
    "t2 = {'t0': 3, 't2': 3, 't3': 3}\n",
    "\n",
    "\n",
    "product = [s[key1]*b['t0'] for key1, b in zip(s.keys(), [t1,t2])]\n",
    "print(product)"
   ]
  },
  {
   "cell_type": "code",
   "execution_count": 61,
   "metadata": {},
   "outputs": [
    {
     "name": "stdout",
     "output_type": "stream",
     "text": [
      "[1]\n"
     ]
    }
   ],
   "source": [
    "pro = [a['s0'] for a in [s] ]\n",
    "print(pro)"
   ]
  },
  {
   "cell_type": "code",
   "execution_count": 69,
   "metadata": {},
   "outputs": [
    {
     "data": {
      "text/plain": [
       "['s1', 's0']"
      ]
     },
     "execution_count": 69,
     "metadata": {},
     "output_type": "execute_result"
    }
   ],
   "source": [
    "s.keys()"
   ]
  },
  {
   "cell_type": "code",
   "execution_count": 3,
   "metadata": {},
   "outputs": [],
   "source": [
    "BASE=[]\n",
    "OPT = []\n",
    "STATE_COUNT = {'state0': 2, 'state1': 17, 'state2': 10, 'state3': 12, 'state4': 17, 'state5': 23, 'state6': 38, 'state10': 76,\\\n",
    "              'state11': 8}\n",
    "STATE0 = {'meanCycle':  75000, 'stdDev':  1000, 'min': 70000, 'max': 80000, 'base': BASE, 'opt': OPT}\n",
    "STATE1 = {'meanCycle':  200000, 'stdDev':  10000, 'min': 180000, 'max': 220000, 'base': BASE, 'opt': OPT}\n",
    "STATE2 = {'meanCycle':  2500000, 'stdDev':  10000, 'min': 2000000, 'max': 3000000, 'base': BASE, 'opt': OPT}\n",
    "STATE3 = {'meanCycle':  600000, 'stdDev':  10000, 'min': 550000, 'max': 650000, 'base': BASE, 'opt': OPT}\n",
    "STATE4 = {'meanCycle':  2800000, 'stdDev':  10000, 'min': 2400000, 'max': 3200000, 'base': BASE, 'opt': OPT}\n",
    "STATE5 = {'meanCycle':  550000, 'stdDev':  10000, 'min': 500000, 'max': 600000, 'base': BASE, 'opt': OPT}\n",
    "STATE6 = {'meanCycle':  150000, 'stdDev':  10000, 'min': 100000, 'max': 200000, 'base': BASE, 'opt': OPT}\n",
    "STATE10 = {'meanCycle':  150000, 'stdDev':  10000, 'min': 100000, 'max': 200000, 'base': BASE, 'opt': OPT}\n",
    "STATE11 = {'meanCycle':  600000, 'stdDev':  10000, 'min': 550000, 'max': 650000, 'base': BASE, 'opt': OPT}\n",
    "\n"
   ]
  },
  {
   "cell_type": "code",
   "execution_count": 7,
   "metadata": {},
   "outputs": [],
   "source": [
    "import numpy as np\n",
    "np.sort(STATE_COUNT.keys())\n",
    "\n",
    "stateDictList = [STATE0, STATE1, STATE10, STATE11, STATE2, STATE3, STATE4, STATE5, STATE6]"
   ]
  },
  {
   "cell_type": "code",
   "execution_count": 8,
   "metadata": {},
   "outputs": [
    {
     "data": {
      "text/plain": [
       "[150000,\n",
       " 3400000,\n",
       " 11400000,\n",
       " 4800000,\n",
       " 25000000,\n",
       " 7200000,\n",
       " 47600000,\n",
       " 12650000,\n",
       " 5700000]"
      ]
     },
     "execution_count": 8,
     "metadata": {},
     "output_type": "execute_result"
    }
   ],
   "source": [
    "product = [stateDict['meanCycle']*STATE_COUNT[keyStateCount] for keyStateCount, stateDict in zip(np.sort(STATE_COUNT.keys()), stateDictList)]\n",
    "product"
   ]
  },
  {
   "cell_type": "code",
   "execution_count": 10,
   "metadata": {},
   "outputs": [
    {
     "data": {
      "text/plain": [
       "0.6013702548843246"
      ]
     },
     "execution_count": 10,
     "metadata": {},
     "output_type": "execute_result"
    }
   ],
   "source": [
    "from random import *\n",
    "rand = random()\n",
    "rand"
   ]
  },
  {
   "cell_type": "code",
   "execution_count": 45,
   "metadata": {},
   "outputs": [
    {
     "name": "stdout",
     "output_type": "stream",
     "text": [
      "dict_keys(['state0', 'state1', 'state2', 'state3', 'state4', 'state5', 'state6', 'state7'])\n",
      "state0\n",
      "STATE0\n",
      "state1\n",
      "STATE1\n",
      "state2\n",
      "STATE2\n",
      "state3\n",
      "STATE3\n",
      "state4\n",
      "STATE4\n",
      "state5\n",
      "STATE5\n",
      "state6\n",
      "STATE6\n",
      "state7\n",
      "STATE7\n"
     ]
    }
   ],
   "source": [
    "import numpy as np\n",
    "STATE_COUNT = {'state0': 0, 'state1': 0, 'state2': 0, 'state3': 0, 'state4': 0, 'state5': 0, 'state6': 0, 'state7': 0}\n",
    "print(STATE_COUNT.keys())\n",
    "stateDictList = ['STATE0', 'STATE1', 'STATE2', 'STATE3', 'STATE4', 'STATE5', 'STATE6', 'STATE7']\n",
    "for keyStateCount, stateDict in zip(np.sort(list(STATE_COUNT.keys()), axis=None), stateDictList):\n",
    "    print(keyStateCount)\n",
    "    print(stateDict)"
   ]
  },
  {
   "cell_type": "code",
   "execution_count": 49,
   "metadata": {},
   "outputs": [
    {
     "data": {
      "text/plain": [
       "array([ 0,  1,  2,  3,  4,  5,  6,  7,  8,  9, 10, 11, 12, 13, 14, 15])"
      ]
     },
     "execution_count": 49,
     "metadata": {},
     "output_type": "execute_result"
    }
   ],
   "source": [
    "dir(list(STATE_COUNT.keys()).sort())\n",
    "from functools import reduce\n",
    "np.arange(16)"
   ]
  },
  {
   "cell_type": "code",
   "execution_count": 44,
   "metadata": {},
   "outputs": [
    {
     "data": {
      "text/plain": [
       "array(['state0', 'state1', 'state2', 'state3', 'state4', 'state5',\n",
       "       'state6', 'state7'], dtype='<U6')"
      ]
     },
     "execution_count": 44,
     "metadata": {},
     "output_type": "execute_result"
    }
   ],
   "source": [
    "np.sort(list(STATE_COUNT.keys()))"
   ]
  },
  {
   "cell_type": "code",
   "execution_count": 17,
   "metadata": {},
   "outputs": [
    {
     "name": "stdout",
     "output_type": "stream",
     "text": [
      "0\n",
      "4\n",
      "1\n",
      "3\n",
      "2\n",
      "7\n",
      "3\n",
      "8\n"
     ]
    }
   ],
   "source": [
    "a=[0,1,2,3]\n",
    "b=[4,3,7,8]\n",
    "\n",
    "for c,d in zip(a,b):\n",
    "    print(c)\n",
    "    print(d)"
   ]
  },
  {
   "cell_type": "code",
   "execution_count": null,
   "metadata": {},
   "outputs": [],
   "source": []
  }
 ],
 "metadata": {
  "anaconda-cloud": {},
  "kernelspec": {
   "display_name": "Python 3",
   "language": "python",
   "name": "python3"
  },
  "language_info": {
   "codemirror_mode": {
    "name": "ipython",
    "version": 3
   },
   "file_extension": ".py",
   "mimetype": "text/x-python",
   "name": "python",
   "nbconvert_exporter": "python",
   "pygments_lexer": "ipython3",
   "version": "3.6.4"
  }
 },
 "nbformat": 4,
 "nbformat_minor": 2
}

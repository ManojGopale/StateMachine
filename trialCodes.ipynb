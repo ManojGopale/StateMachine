{
 "cells": [
  {
   "cell_type": "code",
   "execution_count": 13,
   "metadata": {},
   "outputs": [
    {
     "name": "stdout",
     "output_type": "stream",
     "text": [
      "i= 0\n",
      "i= 1\n",
      "i= 4\n",
      "i= 3\n",
      "i= 5\n",
      "i= 6\n",
      "list1 = [5, 7, 9], <type 'list'>\n",
      "list1 = [9, 12, 15], <type 'list'>\n",
      "list3 = [1.8, 2.4, 3.0]\n"
     ]
    }
   ],
   "source": [
    "myList = [0,1,4,3,5,6]\n",
    "\n",
    "for i in  myList:\n",
    "    print \"i= %d\" %(i)\n",
    "    \n",
    "#### adding 2 list using map\n",
    "from operator import add\n",
    "\n",
    "list1 = [1,2,3]\n",
    "list2 = [4,5,6]\n",
    "\n",
    "for i in range(2):\n",
    "    list1 = map(add, list1, list2)\n",
    "    print\"list1 = %s, %s\" %(list1, type(list1))\n",
    "\n",
    "list3 = [x/5.0 for x in list1]\n",
    "print\"list3 = %s\" %(list3)"
   ]
  }
 ],
 "metadata": {
  "kernelspec": {
   "display_name": "Python 2",
   "language": "python",
   "name": "python2"
  },
  "language_info": {
   "codemirror_mode": {
    "name": "ipython",
    "version": 2
   },
   "file_extension": ".py",
   "mimetype": "text/x-python",
   "name": "python",
   "nbconvert_exporter": "python",
   "pygments_lexer": "ipython2",
   "version": "2.7.14"
  }
 },
 "nbformat": 4,
 "nbformat_minor": 2
}

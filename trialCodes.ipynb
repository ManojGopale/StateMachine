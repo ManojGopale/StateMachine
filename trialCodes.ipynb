{
 "cells": [
  {
   "cell_type": "code",
   "execution_count": 9,
   "metadata": {
    "collapsed": false
   },
   "outputs": [
    {
     "name": "stdout",
     "output_type": "stream",
     "text": [
      "i= 0\n",
      "i= 1\n",
      "i= 4\n",
      "i= 3\n",
      "i= 5\n",
      "i= 6\n",
      "list1 = [5, 7, 9], <type 'list'>, len= 3, last= 9\n",
      "list1 = [9, 12, 15], <type 'list'>, len= 3, last= 15\n",
      "list3 = [1.8, 2.4, 3.0]\n",
      "random= 0.865129\n",
      "Max of random: 0.686436, Min of Random: 0.005167\n"
     ]
    }
   ],
   "source": [
    "myList = [0,1,4,3,5,6]\n",
    "\n",
    "for i in  myList:\n",
    "    print \"i= %d\" %(i)\n",
    "    \n",
    "#### adding 2 list using map\n",
    "from operator import add\n",
    "\n",
    "list1 = [1,2,3]\n",
    "list2 = [4,5,6]\n",
    "\n",
    "for i in range(2):\n",
    "    list1 = map(add, list1, list2)\n",
    "    print\"list1 = %s, %s, len= %d, last= %d\" %(list1, type(list1), len(list1), list1[len(list1)-1])\n",
    "\n",
    "list3 = [x/5.0 for x in list1]\n",
    "print\"list3 = %s\" %(list3)\n",
    "\n",
    "## Checking the random numbers\n",
    "from random import *\n",
    "seed(None)\n",
    "\n",
    "print \"random= %f\" %(random())\n",
    "rand = []\n",
    "for i in range(10):\n",
    "    rand.append(random())\n",
    "\n",
    "print\"Max of random: %f, Min of Random: %f\" %(max(rand), min(rand))"
   ]
  },
  {
   "cell_type": "code",
   "execution_count": 20,
   "metadata": {
    "collapsed": false
   },
   "outputs": [
    {
     "name": "stdout",
     "output_type": "stream",
     "text": [
      "[4, 13, 1]\n",
      "18\n"
     ]
    }
   ],
   "source": [
    "s = {'s0': 1, 's1': 13, 's2': 4}\n",
    "t = {'t0': 2, 't2': 2, 't3': 2}\n",
    "sList = [val for key, val in s.iteritems()]\n",
    "print(sList)\n",
    "slist = [1,3,4]\n",
    "sNum = reduce(lambda x,y: x+y, sList) \n",
    "print(sNum)"
   ]
  },
  {
   "cell_type": "code",
   "execution_count": 35,
   "metadata": {
    "collapsed": false
   },
   "outputs": [
    {
     "name": "stdout",
     "output_type": "stream",
     "text": [
      "    0.1111\n"
     ]
    },
    {
     "data": {
      "text/plain": [
       "str"
      ]
     },
     "execution_count": 35,
     "metadata": {},
     "output_type": "execute_result"
    }
   ],
   "source": [
    "fltStr = \"{0:10.4f}\".format((float(1*1.0/9)))\n",
    "print(fltStr)\n",
    "type(fltStr)"
   ]
  },
  {
   "cell_type": "code",
   "execution_count": 64,
   "metadata": {
    "collapsed": false
   },
   "outputs": [
    {
     "name": "stdout",
     "output_type": "stream",
     "text": [
      "[26, 3]\n"
     ]
    }
   ],
   "source": [
    "s = {'s0': 1, 's1': 13}\n",
    "t1 = {'t0': 2, 't2': 2, 't3': 2}\n",
    "t2 = {'t0': 3, 't2': 3, 't3': 3}\n",
    "\n",
    "\n",
    "product = [s[key1]*b['t0'] for key1, b in zip(s.keys(), [t1,t2])]\n",
    "print(product)"
   ]
  },
  {
   "cell_type": "code",
   "execution_count": 61,
   "metadata": {
    "collapsed": false
   },
   "outputs": [
    {
     "name": "stdout",
     "output_type": "stream",
     "text": [
      "[1]\n"
     ]
    }
   ],
   "source": [
    "pro = [a['s0'] for a in [s] ]\n",
    "print(pro)"
   ]
  },
  {
   "cell_type": "code",
   "execution_count": 69,
   "metadata": {
    "collapsed": false
   },
   "outputs": [
    {
     "data": {
      "text/plain": [
       "['s1', 's0']"
      ]
     },
     "execution_count": 69,
     "metadata": {},
     "output_type": "execute_result"
    }
   ],
   "source": [
    "s.keys()"
   ]
  },
  {
   "cell_type": "code",
   "execution_count": 81,
   "metadata": {
    "collapsed": false
   },
   "outputs": [],
   "source": [
    "BASE=[]\n",
    "OPT = []\n",
    "STATE_COUNT = {'state0': 2, 'state1': 17, 'state2': 10, 'state3': 12, 'state4': 17, 'state5': 23, 'state6': 38}\n",
    "STATE0 = {'meanCycle':  75000, 'stdDev':  1000, 'min': 70000, 'max': 80000, 'base': BASE, 'opt': OPT}\n",
    "STATE1 = {'meanCycle':  200000, 'stdDev':  10000, 'min': 180000, 'max': 220000, 'base': BASE, 'opt': OPT}\n",
    "STATE2 = {'meanCycle':  2500000, 'stdDev':  10000, 'min': 2000000, 'max': 3000000, 'base': BASE, 'opt': OPT}\n",
    "STATE3 = {'meanCycle':  600000, 'stdDev':  10000, 'min': 550000, 'max': 650000, 'base': BASE, 'opt': OPT}\n",
    "STATE4 = {'meanCycle':  2800000, 'stdDev':  10000, 'min': 2400000, 'max': 3200000, 'base': BASE, 'opt': OPT}\n",
    "STATE5 = {'meanCycle':  550000, 'stdDev':  10000, 'min': 500000, 'max': 600000, 'base': BASE, 'opt': OPT}\n",
    "STATE6 = {'meanCycle':  150000, 'stdDev':  10000, 'min': 100000, 'max': 200000, 'base': BASE, 'opt': OPT}\n",
    "\n"
   ]
  },
  {
   "cell_type": "code",
   "execution_count": 82,
   "metadata": {
    "collapsed": false
   },
   "outputs": [],
   "source": [
    "import numpy as np\n",
    "np.sort(STATE_COUNT.keys())\n",
    "\n",
    "stateDictList = [STATE0, STATE1, STATE2, STATE3, STATE4, STATE5, STATE6]"
   ]
  },
  {
   "cell_type": "code",
   "execution_count": 83,
   "metadata": {
    "collapsed": false
   },
   "outputs": [
    {
     "data": {
      "text/plain": [
       "[150000, 3400000, 25000000, 7200000, 47600000, 12650000, 5700000]"
      ]
     },
     "execution_count": 83,
     "metadata": {},
     "output_type": "execute_result"
    }
   ],
   "source": [
    "product = [stateDict['meanCycle']*STATE_COUNT[keyStateCount] for keyStateCount, stateDict in zip(np.sort(STATE_COUNT.keys()), stateDictList)]\n",
    "product"
   ]
  },
  {
   "cell_type": "code",
   "execution_count": 85,
   "metadata": {
    "collapsed": false
   },
   "outputs": [
    {
     "data": {
      "text/plain": [
       "0.6856976454203967"
      ]
     },
     "execution_count": 85,
     "metadata": {},
     "output_type": "execute_result"
    }
   ],
   "source": [
    "from random import *\n",
    "rand = random()\n",
    "rand"
   ]
  },
  {
   "cell_type": "code",
   "execution_count": null,
   "metadata": {
    "collapsed": true
   },
   "outputs": [],
   "source": []
  }
 ],
 "metadata": {
  "anaconda-cloud": {},
  "kernelspec": {
   "display_name": "Python 2",
   "language": "python",
   "name": "python2"
  },
  "language_info": {
   "codemirror_mode": {
    "name": "ipython",
    "version": 2
   },
   "file_extension": ".py",
   "mimetype": "text/x-python",
   "name": "python",
   "nbconvert_exporter": "python",
   "pygments_lexer": "ipython2",
   "version": "2.7.12"
  }
 },
 "nbformat": 4,
 "nbformat_minor": 2
}

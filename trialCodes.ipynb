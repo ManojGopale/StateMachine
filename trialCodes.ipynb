{
 "cells": [
  {
   "cell_type": "code",
   "execution_count": 9,
   "metadata": {},
   "outputs": [
    {
     "name": "stdout",
     "output_type": "stream",
     "text": [
      "i= 0\n",
      "i= 1\n",
      "i= 4\n",
      "i= 3\n",
      "i= 5\n",
      "i= 6\n",
      "list1 = [5, 7, 9], <type 'list'>, len= 3, last= 9\n",
      "list1 = [9, 12, 15], <type 'list'>, len= 3, last= 15\n",
      "list3 = [1.8, 2.4, 3.0]\n",
      "random= 0.865129\n",
      "Max of random: 0.686436, Min of Random: 0.005167\n"
     ]
    }
   ],
   "source": [
    "myList = [0,1,4,3,5,6]\n",
    "\n",
    "for i in  myList:\n",
    "    print \"i= %d\" %(i)\n",
    "    \n",
    "#### adding 2 list using map\n",
    "from operator import add\n",
    "\n",
    "list1 = [1,2,3]\n",
    "list2 = [4,5,6]\n",
    "\n",
    "for i in range(2):\n",
    "    list1 = map(add, list1, list2)\n",
    "    print\"list1 = %s, %s, len= %d, last= %d\" %(list1, type(list1), len(list1), list1[len(list1)-1])\n",
    "\n",
    "list3 = [x/5.0 for x in list1]\n",
    "print\"list3 = %s\" %(list3)\n",
    "\n",
    "## Checking the random numbers\n",
    "from random import *\n",
    "seed(None)\n",
    "\n",
    "print \"random= %f\" %(random())\n",
    "rand = []\n",
    "for i in range(10):\n",
    "    rand.append(random())\n",
    "\n",
    "print\"Max of random: %f, Min of Random: %f\" %(max(rand), min(rand))"
   ]
  }
 ],
 "metadata": {
  "kernelspec": {
   "display_name": "Python 2",
   "language": "python",
   "name": "python2"
  },
  "language_info": {
   "codemirror_mode": {
    "name": "ipython",
    "version": 2
   },
   "file_extension": ".py",
   "mimetype": "text/x-python",
   "name": "python",
   "nbconvert_exporter": "python",
   "pygments_lexer": "ipython2",
   "version": "2.7.14"
  }
 },
 "nbformat": 4,
 "nbformat_minor": 2
}

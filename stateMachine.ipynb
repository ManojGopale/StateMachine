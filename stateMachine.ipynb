{
 "cells": [
  {
   "cell_type": "code",
   "execution_count": 23,
   "metadata": {},
   "outputs": [
    {
     "name": "stdout",
     "output_type": "stream",
     "text": [
      "Done with states\n",
      "State0Count= 3315\n",
      "State1Count= 1657\n",
      "State2Count= 5027\n",
      "\n"
     ]
    }
   ],
   "source": [
    "from random import *\n",
    "from time import sleep\n",
    "\n",
    "seed(None)\n",
    "# Each of the state functions below performs some action and then implements\n",
    "# logic to choose next state.  Each state function returns the next state.\n",
    "\n",
    "## Global Counts\n",
    "global N\n",
    "global state0Count\n",
    "global state1Count\n",
    "global state2Count\n",
    "\n",
    "N = 10000-1\n",
    "state0Count = 0\n",
    "state1Count = 0\n",
    "state2Count = 0\n",
    "\n",
    "def state0():\n",
    "    #print \"state0\"\n",
    "    # delay and decision path to simulate some application logic\n",
    "    #sleep(.5)\n",
    "    global state0Count\n",
    "    state0Count = state0Count + 1\n",
    "    if random()>.5:\n",
    "        return state1\n",
    "    else:\n",
    "        return state2\n",
    "\n",
    "def state1():\n",
    "    #print \"state1\"\n",
    "    # delay and decision path to simulate some application logic\n",
    "    #sleep(.5)\n",
    "    global state1Count\n",
    "    state1Count = state1Count + 1\n",
    "    if random()>.5:\n",
    "        return state0\n",
    "    else:\n",
    "        return state2\n",
    "\n",
    "def state2():\n",
    "    #print \"state2\"\n",
    "    # delay and decision path to simulate some application logic\n",
    "    #sleep(.5)\n",
    "    global state2Count\n",
    "    state2Count = state2Count + 1\n",
    "    if random()>.5:\n",
    "        return state0\n",
    "    else:\n",
    "        return state2\n",
    "\n",
    "state=state0    # initial state\n",
    "#while state: state=state()  # launch state machine\n",
    "count = 0\n",
    "\n",
    "while count < N:\n",
    "    state = state()\n",
    "    count = count + 1\n",
    "    \n",
    "print \"Done with states\"\n",
    "print \"State0Count= %d\\nState1Count= %d\\nState2Count= %d\\n\" %(state0Count, state1Count, state2Count)\n"
   ]
  }
 ],
 "metadata": {
  "kernelspec": {
   "display_name": "Python 2",
   "language": "python",
   "name": "python2"
  },
  "language_info": {
   "codemirror_mode": {
    "name": "ipython",
    "version": 2
   },
   "file_extension": ".py",
   "mimetype": "text/x-python",
   "name": "python",
   "nbconvert_exporter": "python",
   "pygments_lexer": "ipython2",
   "version": "2.7.13"
  }
 },
 "nbformat": 4,
 "nbformat_minor": 2
}

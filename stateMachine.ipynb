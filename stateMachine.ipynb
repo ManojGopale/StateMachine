{
 "cells": [
  {
   "cell_type": "code",
   "execution_count": 28,
   "metadata": {},
   "outputs": [
    {
     "name": "stdout",
     "output_type": "stream",
     "text": [
      "Done with states\n",
      "State0Count= 500016\n",
      "State1Count= 250016\n",
      "State2Count= 249967\n",
      "\n"
     ]
    }
   ],
   "source": [
    "from random import *\n",
    "from time import sleep\n",
    "\n",
    "seed(None)\n",
    "# Each of the state functions below performs some action and then implements\n",
    "# logic to choose next state.  Each state function returns the next state.\n",
    "\n",
    "## Global Counts\n",
    "## Count here refers to the number of cycles each state is in.\n",
    "global N\n",
    "global state0Count\n",
    "global state1Count\n",
    "global state2Count\n",
    "\n",
    "N = 1000000-1\n",
    "state0Count = 0\n",
    "state1Count = 0\n",
    "state2Count = 0\n",
    "\n",
    "def state0():\n",
    "    #print \"state0\"\n",
    "    \n",
    "    global state0Count\n",
    "    state0Count = state0Count + 1\n",
    "    if random()>.5:\n",
    "        return state1\n",
    "    else:\n",
    "        return state0\n",
    "\n",
    "def state1():\n",
    "    #print \"state1\"\n",
    "    \n",
    "    global state1Count\n",
    "    state1Count = state1Count + 1\n",
    "    if random()>.5:\n",
    "        return state2\n",
    "    else:\n",
    "        return state0\n",
    "\n",
    "def state2():\n",
    "    #print \"state2\"\n",
    "   \n",
    "    global state2Count\n",
    "    state2Count = state2Count + 1\n",
    "    if random()>.5:\n",
    "        return state0\n",
    "    else:\n",
    "        return state2\n",
    "\n",
    "state=state0    # initial state\n",
    "#while state: state=state()  # launch state machine\n",
    "\n",
    "count = 0\n",
    "\n",
    "while count < N:\n",
    "    state = state()\n",
    "    count = count + 1\n",
    "    \n",
    "print \"Done with states\"\n",
    "print \"State0Count= %d\\nState1Count= %d\\nState2Count= %d\\n\" %(state0Count, state1Count, state2Count)\n"
   ]
  },
  {
   "cell_type": "code",
   "execution_count": 29,
   "metadata": {
    "collapsed": true
   },
   "outputs": [],
   "source": [
    "## The number of cycles in states is simulated from above\n",
    "## Checking the optimisation due to each method on those cycles\n",
    "\n",
    "## Tehcniques we will be checking for are PDM, Greedy and Generic\n",
    "## freq_cycles => is the period in which the optimisation takes place\n",
    "## lat => latency for optimisation\n",
    "## stdDev => standard deviation of the optimisation\n",
    "## quality => The performance benefit from the technique\n",
    "\n",
    "PDM = {'freq_cycles': 2000, 'lat': 500, 'stdDev': 20, 'quality': 0.8}\n",
    "Greedy = {'freq_cycles': 4000, 'lat': 1500, 'stdDev': 100, 'quality': 0.9}\n",
    "Generic = {'freq_cycles': 20000, 'lat': 10000, 'stdDev': 10, 'quality': 1}\n",
    "\n",
    "##############\n",
    "\n",
    "## Statewise optimisation metric\n",
    "## This metric shows the ratio of optimisation by icache, dcache and ROB due to each method\n",
    "## For now we will only consider PDM\n",
    "\n",
    "state0Metric = {'iCache_PDM': 0.3, 'dCache_PDM': 0.6, 'ROB_PDM': 0.1}\n",
    "state1Metric = {'iCache_PDM': 0.6, 'dCache_PDM': 0.3, 'ROB_PDM': 0.1}\n",
    "state2Metric = {'iCache_PDM': 0.2, 'dCache_PDM': 0.3, 'ROB_PDM': 0.5}\n",
    "\n"
   ]
  }
 ],
 "metadata": {
  "kernelspec": {
   "display_name": "Python 2",
   "language": "python",
   "name": "python2"
  },
  "language_info": {
   "codemirror_mode": {
    "name": "ipython",
    "version": 2
   },
   "file_extension": ".py",
   "mimetype": "text/x-python",
   "name": "python",
   "nbconvert_exporter": "python",
   "pygments_lexer": "ipython2",
   "version": "2.7.13"
  }
 },
 "nbformat": 4,
 "nbformat_minor": 2
}

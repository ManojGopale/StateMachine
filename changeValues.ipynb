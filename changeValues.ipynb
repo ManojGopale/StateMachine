{
 "cells": [
  {
   "cell_type": "code",
   "execution_count": 22,
   "metadata": {
    "collapsed": false
   },
   "outputs": [
    {
     "name": "stdout",
     "output_type": "stream",
     "text": [
      "    \"STATE0 = {'meanCycle':  90000, 'stdDev':  1000, 'min': 85000, 'max': 95000, 'base': BASE, 'opt': OPT}\\n\",\n",
      "\n",
      "90000\n",
      "<class 'str'>\n"
     ]
    }
   ],
   "source": [
    "with open('xalan_copy.ipynb', 'r') as rFile:\n",
    "    for line in rFile:\n",
    "        if ('STATE0' in line) and ('BASE' in line) and ('meanCycle' in line):\n",
    "            print(line)\n",
    "            split = line.split()\n",
    "            print(split[3].split(',')[0])\n",
    "            print(type(split[3].split(',')[0]))\n",
    "            \n"
   ]
  },
  {
   "cell_type": "code",
   "execution_count": 1,
   "metadata": {
    "collapsed": false
   },
   "outputs": [
    {
     "ename": "AttributeError",
     "evalue": "FileInput instance has no attribute '__exit__'",
     "output_type": "error",
     "traceback": [
      "\u001b[0;31m\u001b[0m",
      "\u001b[0;31mAttributeError\u001b[0mTraceback (most recent call last)",
      "\u001b[0;32m<ipython-input-1-5694cb644075>\u001b[0m in \u001b[0;36m<module>\u001b[0;34m()\u001b[0m\n\u001b[1;32m      7\u001b[0m     \u001b[0mstateStr\u001b[0m \u001b[1;33m=\u001b[0m \u001b[1;34m\"STATE\"\u001b[0m \u001b[1;33m+\u001b[0m \u001b[0mstr\u001b[0m\u001b[1;33m(\u001b[0m\u001b[0mi\u001b[0m\u001b[1;33m)\u001b[0m\u001b[1;33m\u001b[0m\u001b[0m\n\u001b[1;32m      8\u001b[0m     \u001b[1;31m# For each state there wil be a loop run over entire file\u001b[0m\u001b[1;33m\u001b[0m\u001b[1;33m\u001b[0m\u001b[0m\n\u001b[0;32m----> 9\u001b[0;31m     \u001b[1;32mwith\u001b[0m \u001b[0mFileInput\u001b[0m\u001b[1;33m(\u001b[0m\u001b[0mfiles\u001b[0m\u001b[1;33m=\u001b[0m\u001b[1;33m(\u001b[0m\u001b[1;34m'xalan_copy.ipynb'\u001b[0m\u001b[1;33m)\u001b[0m\u001b[1;33m,\u001b[0m \u001b[0minplace\u001b[0m\u001b[1;33m=\u001b[0m\u001b[0mTrue\u001b[0m\u001b[1;33m)\u001b[0m \u001b[1;32mas\u001b[0m \u001b[0mf\u001b[0m\u001b[1;33m:\u001b[0m\u001b[1;33m\u001b[0m\u001b[0m\n\u001b[0m\u001b[1;32m     10\u001b[0m         \u001b[1;32mfor\u001b[0m \u001b[0mline\u001b[0m \u001b[1;32min\u001b[0m \u001b[0mf\u001b[0m\u001b[1;33m:\u001b[0m\u001b[1;33m\u001b[0m\u001b[0m\n\u001b[1;32m     11\u001b[0m             \u001b[0mline\u001b[0m \u001b[1;33m=\u001b[0m  \u001b[0mline\u001b[0m\u001b[1;33m.\u001b[0m\u001b[0mrstrip\u001b[0m\u001b[1;33m(\u001b[0m\u001b[1;33m)\u001b[0m\u001b[1;33m\u001b[0m\u001b[0m\n",
      "\u001b[0;31mAttributeError\u001b[0m: FileInput instance has no attribute '__exit__'"
     ]
    }
   ],
   "source": [
    "# Rewrites the file to coresspond to the meanCycle values specified here\n",
    "# Need to automate other values too.\n",
    "# This works for 3.6 and above version\n",
    "numState = 12\n",
    "meanCycle = [90000, 500000, 200000, 100000, 200000, 500000, 150000,\\\n",
    "            200000, 60000, 200000, 200000, 80000]\n",
    "from fileinput import FileInput\n",
    "for i in range(numState):\n",
    "    stateStr = \"STATE\" + str(i)\n",
    "    # For each state there wil be a loop run over entire file\n",
    "    with FileInput(files=('xalan_copy.ipynb'), inplace=True) as f:\n",
    "        for line in f:\n",
    "            line =  line.rstrip()\n",
    "            if (stateStr in line) and ('BASE' in line) and ('meanCycle' in line):\n",
    "                #print(line)\n",
    "                split = line.split()\n",
    "                #print(split[3].split(',')[0])\n",
    "                #print(type(split[3].split(',')[0]))\n",
    "                #print(split)\n",
    "                split[3] = str(meanCycle[i]) + ','\n",
    "                if int(split[3].split(',')[0]) <= 10000:\n",
    "                    split[5] = str(1000) + ','\n",
    "                    split[7] = str(int(split[3].split(',')[0]) - 2500) + ','\n",
    "                    split[9] = str(int(split[3].split(',')[0]) + 2500) + \",\"\n",
    "                if int(split[3].split(',')[0]) > 10000 and int(split[3].split(',')[0]) <= 100000:\n",
    "                    split[5] = str(1000) + ','\n",
    "                    split[7] = str(int(split[3].split(',')[0]) - 5000) + \",\"\n",
    "                    split[9] = str(int(split[3].split(',')[0]) + 5000) + \",\"\n",
    "                elif int(split[3].split(',')[0]) > 100000:\n",
    "                    split[5] = str(10000) + ','\n",
    "                    split[7] = str(int(split[3].split(',')[0]) - 50000) + \",\"\n",
    "                    split[9] = str(int(split[3].split(',')[0]) + 50000) + \",\"\n",
    "                line = \" \".join(str(x) for x in split)\n",
    "                print(line)\n",
    "            else:\n",
    "                print(line)"
   ]
  },
  {
   "cell_type": "code",
   "execution_count": null,
   "metadata": {
    "collapsed": true
   },
   "outputs": [],
   "source": []
  }
 ],
 "metadata": {
  "anaconda-cloud": {},
  "kernelspec": {
   "display_name": "Python 2",
   "language": "python",
   "name": "python2"
  },
  "language_info": {
   "codemirror_mode": {
    "name": "ipython",
    "version": 2
   },
   "file_extension": ".py",
   "mimetype": "text/x-python",
   "name": "python",
   "nbconvert_exporter": "python",
   "pygments_lexer": "ipython2",
   "version": "2.7.12"
  }
 },
 "nbformat": 4,
 "nbformat_minor": 2
}

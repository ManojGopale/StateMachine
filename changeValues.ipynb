{
 "cells": [
  {
   "cell_type": "code",
   "execution_count": 22,
   "metadata": {},
   "outputs": [
    {
     "name": "stdout",
     "output_type": "stream",
     "text": [
      "    \"STATE0 = {'meanCycle':  90000, 'stdDev':  1000, 'min': 85000, 'max': 95000, 'base': BASE, 'opt': OPT}\\n\",\n",
      "\n",
      "90000\n",
      "<class 'str'>\n"
     ]
    }
   ],
   "source": [
    "with open('xalan_copy.ipynb', 'r') as rFile:\n",
    "    for line in rFile:\n",
    "        if ('STATE0' in line) and ('BASE' in line) and ('meanCycle' in line):\n",
    "            print(line)\n",
    "            split = line.split()\n",
    "            print(split[3].split(',')[0])\n",
    "            print(type(split[3].split(',')[0]))\n",
    "            \n"
   ]
  },
  {
   "cell_type": "code",
   "execution_count": 60,
   "metadata": {},
   "outputs": [],
   "source": [
    "# Rewrites the file to coresspond to the meanCycle values specified here\n",
    "# Need to automate other values too.\n",
    "numState = 12\n",
    "meanCycle = [90000, 500000, 200000, 100000, 200000, 500000, 150000,\\\n",
    "            200000, 60000, 200000, 200000, 80000]\n",
    "from fileinput import FileInput\n",
    "for i in range(numState):\n",
    "    stateStr = \"STATE\" + str(i)\n",
    "    # For each state there wil be a loop run over entire file\n",
    "    with FileInput(files=('xalan_copy.ipynb'), inplace=True) as f:\n",
    "        for line in f:\n",
    "            line =  line.rstrip()\n",
    "            if (stateStr in line) and ('BASE' in line) and ('meanCycle' in line):\n",
    "                #print(line)\n",
    "                split = line.split()\n",
    "                #print(split[3].split(',')[0])\n",
    "                #print(type(split[3].split(',')[0]))\n",
    "                #print(split)\n",
    "                split[3] = str(meanCycle[i]) + ','\n",
    "                if int(split[3].split(',')[0]) <= 10000:\n",
    "                    split[5] = str(1000) + ','\n",
    "                    split[7] = str(int(split[3].split(',')[0]) - 2500) + ','\n",
    "                    split[9] = str(int(split[3].split(',')[0]) + 2500) + \",\"\n",
    "                if int(split[3].split(',')[0]) > 10000 and int(split[3].split(',')[0]) <= 100000:\n",
    "                    split[5] = str(1000) + ','\n",
    "                    split[7] = str(int(split[3].split(',')[0]) - 5000) + \",\"\n",
    "                    split[9] = str(int(split[3].split(',')[0]) + 5000) + \",\"\n",
    "                elif int(split[3].split(',')[0]) > 100000:\n",
    "                    split[5] = str(10000) + ','\n",
    "                    split[7] = str(int(split[3].split(',')[0]) - 50000) + \",\"\n",
    "                    split[9] = str(int(split[3].split(',')[0]) + 50000) + \",\"\n",
    "                line = \" \".join(str(x) for x in split)\n",
    "                print(line)\n",
    "            else:\n",
    "                print(line)"
   ]
  },
  {
   "cell_type": "code",
   "execution_count": null,
   "metadata": {},
   "outputs": [],
   "source": []
  },
  {
   "cell_type": "code",
   "execution_count": null,
   "metadata": {},
   "outputs": [],
   "source": []
  }
 ],
 "metadata": {
  "kernelspec": {
   "display_name": "Python 3",
   "language": "python",
   "name": "python3"
  },
  "language_info": {
   "codemirror_mode": {
    "name": "ipython",
    "version": 3
   },
   "file_extension": ".py",
   "mimetype": "text/x-python",
   "name": "python",
   "nbconvert_exporter": "python",
   "pygments_lexer": "ipython3",
   "version": "3.6.4"
  }
 },
 "nbformat": 4,
 "nbformat_minor": 2
}
